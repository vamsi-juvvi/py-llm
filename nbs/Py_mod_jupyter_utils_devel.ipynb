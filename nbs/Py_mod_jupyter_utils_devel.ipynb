{
 "cells": [
  {
   "cell_type": "markdown",
   "metadata": {},
   "source": [
    "# jupyter_utils Module\n",
    "\n",
    "Collection of utlity methods to be used in Jupyter notebook contexts\n",
    "\n",
    "- HTML display\n",
    "- Markdown display\n",
    "- Utils for use in colab\n",
    "- \n"
   ]
  },
  {
   "cell_type": "markdown",
   "metadata": {},
   "source": [
    "\n",
    "## HTML Display\n",
    "\n",
    "Collection of utilities to display HTML\n",
    "\n",
    "TODO as needed\n",
    " - SVG\n",
    " - IFrames "
   ]
  },
  {
   "cell_type": "code",
   "execution_count": 2,
   "metadata": {},
   "outputs": [],
   "source": [
    "from IPython.display import display, HTML, Markdown"
   ]
  },
  {
   "cell_type": "code",
   "execution_count": 32,
   "metadata": {},
   "outputs": [],
   "source": [
    "from enum import StrEnum\n",
    "class TextAlign (StrEnum):\n",
    "    DEFAULT = \"justify\"\n",
    "    RIGHT = \"right\"\n",
    "    LEFT = \"left\"\n",
    "\n",
    "class DisplayHTML:\n",
    "    \"\"\"\n",
    "    Collection of jupyter visualization methods\n",
    "    \"\"\"\n",
    "    @staticmethod\n",
    "    def color_box(txt, title=None, bg=\"pink\", fg=\"black\", align= TextAlign.DEFAULT):\n",
    "        if title is not None:\n",
    "            txt = f\"<b>{title}</b><br><hr><br>{txt}\"\n",
    "\n",
    "        MARGIN_AMOUNT=\"100px\"\n",
    "        match align:\n",
    "            case TextAlign.LEFT:        \n",
    "                margin = f\"margin-right:{MARGIN_AMOUNT};\"\n",
    "            case TextAlign.RIGHT:\n",
    "                margin = f\"margin-left:{MARGIN_AMOUNT};\"\n",
    "            case _:\n",
    "                margin = \"\"\n",
    "\n",
    "        display(HTML(f\"<div style='border-radius:15px;padding:15px;{margin}text-align:{str(align)};background-color:{bg};color:{fg};'>{txt}</div>\"))    \n",
    "    \n",
    "    @staticmethod\n",
    "    def text(txt, bg=None, fg=None, align=None):\n",
    "         bg = f\"background-color:{bg}\" if bg else ''\n",
    "         fg = f\"color:{fg}\" if fg else ''\n",
    "         align = f\"text-align:{align}\" if align else ''\n",
    "         display(HTML(f\"<p style='{bg};{fg};{align};'>{txt}</p>\"))"
   ]
  },
  {
   "cell_type": "code",
   "execution_count": 34,
   "metadata": {},
   "outputs": [
    {
     "data": {
      "text/html": [
       "<div style='border-radius:15px;padding:15px;text-align:justify;background-color:pink;color:black;'>This has no title</div>"
      ],
      "text/plain": [
       "<IPython.core.display.HTML object>"
      ]
     },
     "metadata": {},
     "output_type": "display_data"
    },
    {
     "data": {
      "text/html": [
       "<div style='border-radius:15px;padding:15px;text-align:justify;background-color:pink;color:black;'><b>My Title</b><br><hr><br>This is with a title</div>"
      ],
      "text/plain": [
       "<IPython.core.display.HTML object>"
      ]
     },
     "metadata": {},
     "output_type": "display_data"
    },
    {
     "data": {
      "text/html": [
       "<div style='border-radius:15px;padding:15px;margin-left:100px;text-align:right;background-color:lightgreen;color:red;'>black on green bg and justified right</div>"
      ],
      "text/plain": [
       "<IPython.core.display.HTML object>"
      ]
     },
     "metadata": {},
     "output_type": "display_data"
    },
    {
     "data": {
      "text/html": [
       "<div style='border-radius:15px;padding:15px;margin-right:100px;text-align:left;background-color:blue;color:red;'>red on blue bg and justified left</div>"
      ],
      "text/plain": [
       "<IPython.core.display.HTML object>"
      ]
     },
     "metadata": {},
     "output_type": "display_data"
    },
    {
     "data": {
      "text/html": [
       "<p style=';color:red;;'>Plain red text, default alignment</p>"
      ],
      "text/plain": [
       "<IPython.core.display.HTML object>"
      ]
     },
     "metadata": {},
     "output_type": "display_data"
    },
    {
     "data": {
      "text/html": [
       "<p style=';color:yellow;text-align:right;'>Plain yellow text, aligned Right</p>"
      ],
      "text/plain": [
       "<IPython.core.display.HTML object>"
      ]
     },
     "metadata": {},
     "output_type": "display_data"
    }
   ],
   "source": [
    "DisplayHTML.color_box(\"This has no title\")\n",
    "DisplayHTML.color_box(\"This is with a title\", title=\"My Title\")\n",
    "DisplayHTML.color_box(\"black on green bg and justified right\", fg=\"red\", bg=\"lightgreen\", align=TextAlign.RIGHT)\n",
    "DisplayHTML.color_box(\"red on blue bg and justified left\", fg=\"red\", bg=\"blue\", align=TextAlign.LEFT)\n",
    "\n",
    "DisplayHTML.text(\"Plain red text, default alignment\", fg=\"red\")\n",
    "DisplayHTML.text(\"Plain yellow text, aligned Right\", fg=\"yellow\", align=\"right\")"
   ]
  },
  {
   "cell_type": "markdown",
   "metadata": {},
   "source": [
    "\n",
    "## Markdown display\n",
    "\n",
    "### API"
   ]
  },
  {
   "cell_type": "code",
   "execution_count": 9,
   "metadata": {},
   "outputs": [],
   "source": [
    "from IPython.display import display, Markdown\n",
    "import json\n",
    "\n",
    "class Md:\n",
    "     @staticmethod\n",
    "     def h(title:str, title_level:int|None=None):\n",
    "          \"\"\"\n",
    "          Heading. \n",
    "          `title_level` defaults to 1\n",
    "          \"\"\"\n",
    "          title_level = title_level if title_level else 1\n",
    "          title_hashtrain = eval(f\"\\\"#\\\"*{title_level}\") if title_level > 1 else \"#\"\n",
    "          Md.md(f\"{title_hashtrain} {title}\")\n",
    "\n",
    "     @staticmethod\n",
    "     def json(jsn, indent=4):\n",
    "          \"\"\"\n",
    "          Display JSON.\n",
    "          If String      → displayed as is\n",
    "          If Json object → Displayed with the optional indent\n",
    "                           Optional indent defaults to 4\n",
    "          \"\"\"          \n",
    "          Md.md(\n",
    "               Md.json_fmt(jsn, indent)\n",
    "          )\n",
    "     \n",
    "     @staticmethod\n",
    "     def hr():\n",
    "          \"\"\"\n",
    "          like the <hr> of HTML\n",
    "          Draws a separator using the \"----\" Md\n",
    "          \"\"\"\n",
    "          Md.md(\"----\")\n",
    "\n",
    "     @staticmethod            \n",
    "     def code(code_block_str:str, code_lang:str|None=None):\n",
    "          \"\"\"\n",
    "          Display Markdown code\n",
    "          code_lang defaults to empty which will simply produce a ```...``` block\n",
    "          \"\"\"          \n",
    "          Md.md(\n",
    "               Md.code_fmt(code_block_str, code_lang)\n",
    "          )\n",
    "\n",
    "     @staticmethod\n",
    "     def md(markdown_text:str):\n",
    "          \"\"\"\n",
    "          Display markdown formatted text\n",
    "          \"\"\"\n",
    "          display(Markdown(markdown_text))\n",
    "\n",
    "     @staticmethod\n",
    "     def code_fmt(code_block:str, code_lang:str|None=\"\"):\n",
    "          return f\"```{code_lang}\\n{code_block}\\n```\"\n",
    "     \n",
    "     @staticmethod\n",
    "     def json_fmt(jsn, indent=4):\n",
    "          if not isinstance(jsn, str):               \n",
    "               jsn = json.dumps(jsn, indent=indent)               \n",
    "\n",
    "          return Md.code_fmt(jsn, \"json\")\n",
    "     "
   ]
  },
  {
   "cell_type": "code",
   "execution_count": 11,
   "metadata": {},
   "outputs": [
    {
     "data": {
      "text/markdown": [
       "# This is a title. Defaults to H1"
      ],
      "text/plain": [
       "<IPython.core.display.Markdown object>"
      ]
     },
     "metadata": {},
     "output_type": "display_data"
    },
    {
     "data": {
      "text/markdown": [
       "----"
      ],
      "text/plain": [
       "<IPython.core.display.Markdown object>"
      ]
     },
     "metadata": {},
     "output_type": "display_data"
    },
    {
     "data": {
      "text/markdown": [
       "### This is a title at level 3"
      ],
      "text/plain": [
       "<IPython.core.display.Markdown object>"
      ]
     },
     "metadata": {},
     "output_type": "display_data"
    },
    {
     "data": {
      "text/markdown": [
       "----"
      ],
      "text/plain": [
       "<IPython.core.display.Markdown object>"
      ]
     },
     "metadata": {},
     "output_type": "display_data"
    },
    {
     "data": {
      "text/markdown": [
       "# This displays a json block at default indent of 4"
      ],
      "text/plain": [
       "<IPython.core.display.Markdown object>"
      ]
     },
     "metadata": {},
     "output_type": "display_data"
    },
    {
     "data": {
      "text/markdown": [
       "```json\n",
       "{\n",
       "    \"type\": \"function\",\n",
       "    \"function\": {\n",
       "        \"name\": \"get_weather\",\n",
       "        \"description\": \"Get current temperature for a given location.\",\n",
       "        \"parameters\": {\n",
       "            \"type\": \"object\",\n",
       "            \"properties\": {\n",
       "                \"location\": {\n",
       "                    \"type\": \"string\",\n",
       "                    \"description\": \"City and country e.g. Bogot\\u00e1, Colombia\"\n",
       "                }\n",
       "            },\n",
       "            \"required\": [\n",
       "                \"location\"\n",
       "            ],\n",
       "            \"additionalProperties\": false\n",
       "        },\n",
       "        \"strict\": true\n",
       "    }\n",
       "}\n",
       "```"
      ],
      "text/plain": [
       "<IPython.core.display.Markdown object>"
      ]
     },
     "metadata": {},
     "output_type": "display_data"
    }
   ],
   "source": [
    "Md.h(\"This is a title. Defaults to H1\")\n",
    "\n",
    "Md.hr()\n",
    "Md.h(\"This is a title at level 3\", title_level=3)\n",
    "\n",
    "Md.hr()\n",
    "\n",
    "Md.h(\"This displays a json block at default indent of 4\")\n",
    "Md.json(\n",
    "    {\n",
    "    \"type\": \"function\",\n",
    "    \"function\": {\n",
    "        \"name\": \"get_weather\",\n",
    "        \"description\": \"Get current temperature for a given location.\",\n",
    "        \"parameters\": {\n",
    "            \"type\": \"object\",\n",
    "            \"properties\": {\n",
    "                \"location\": {\n",
    "                    \"type\": \"string\",\n",
    "                    \"description\": \"City and country e.g. Bogotá, Colombia\"\n",
    "                }\n",
    "            },\n",
    "            \"required\": [\n",
    "                \"location\"\n",
    "            ],\n",
    "            \"additionalProperties\": False\n",
    "        },\n",
    "        \"strict\": True\n",
    "    }\n",
    "})"
   ]
  },
  {
   "cell_type": "markdown",
   "metadata": {},
   "source": [
    "\n",
    "### Improve callability - Eliminate `Md.`\n",
    "\n",
    "I have the following code to display test output\n",
    "\n",
    "```python\n",
    "Md.h(\"get_weather tool schema output\", title_level=3)\n",
    "Md.json(tool_schema)\n",
    "Md.hr()\n",
    "Md.h(\"get_weather in-prompt schema output\", title_level=3)\n",
    "Md.code(Tool.build_inprompt_tool_schema(tool_schema))\n",
    "\n",
    "Md.h(\"Deserialized from string\", title_level=3)\n",
    "Md.code(arg_deserializer(SERIALIZED_DATA_SAMPLE))\n",
    "\n",
    "Md.h(\"Function called with deserialized\", title_level=3)\n",
    "Md.md(\"👉\" + str(fn_caller(arg_deserializer(SERIALIZED_DATA_SAMPLE))))\n",
    "```\n",
    "\n",
    "Unlike some language, I cannot simply do a `from Md import *` and use `h(..), hr()..` etc to reduce clutter. \n",
    " - Either put these methods into global scope of a module and import from there _(the only reason they are under a class is so that can all go into the one jupyter_utils.py module)_\n",
    " - Convert to a builder. This might anyway have to be done. Visually, jupyter might render things differently in the two case of _building entire Markdown and then displaying it_ vs _displaying each piece in a separate call_.\n",
    "\n",
    " Does this look better:\n",
    " \n",
    "```python\n",
    "h(\"get_weather tool schema output\", title_level=3)\n",
    "json(tool_schema)\n",
    "hr()\n",
    "h(\"get_weather in-prompt schema output\", title_level=3)\n",
    "code(Tool.build_inprompt_tool_schema(tool_schema))\n",
    "h(\"Deserialized from string\", title_level=3)\n",
    "code(arg_deserializer(SERIALIZED_DATA_SAMPLE))\n",
    "h(\"Function called with deserialized\", title_level=3)\n",
    "md(\"👉\" + str(fn_caller(arg_deserializer(SERIALIZED_DATA_SAMPLE))))\n",
    "```\n",
    "\n",
    "Nah..\n",
    "\n",
    "What if I use plain strings and use an Md formatter instead ?? (using `---` instead of triple quotes as nesting them was confusing Md)\n",
    "\n",
    "```python\n",
    "Md.md(f\"\"\"\n",
    "### get_weather tool schema output\n",
    "{Md.json_fmt(tool_schema)}\n",
    "----\n",
    "### get_weather in-prompt schema output\n",
    "{Md.code_fmt(Tool.build_inprompt_tool_schema(tool_schema))}\n",
    "\n",
    "### Deserialized from string\n",
    "{Md.code_fmt(arg_deserializer(SERIALIZED_DATA_SAMPLE))}\n",
    "\n",
    "# Function called with deserialized\n",
    "\n",
    "👉 {str(fn_caller(arg_deserializer(SERIALIZED_DATA_SAMPLE))))}\n",
    "\"\"\")\n",
    "```\n",
    "\n",
    "Honestly, looks better to me. More flexible and way more quickly customizable."
   ]
  },
  {
   "cell_type": "markdown",
   "metadata": {},
   "source": []
  },
  {
   "cell_type": "markdown",
   "metadata": {},
   "source": [
    "# Developments/Experiments\n",
    "\n",
    "## HTML display\n",
    "\n",
    "See what it'll take to extend `color_box` to support a two-actor conversation. This will be the most common case involving `role=user` and `role=assistant` in a chat application. \n",
    "\n",
    "### Specify fg and bg colors"
   ]
  },
  {
   "cell_type": "code",
   "execution_count": 25,
   "metadata": {},
   "outputs": [
    {
     "data": {
      "text/html": [
       "<div style='border-radius:15px;padding:15px;background-color:pink;color:black;'>black text on pink</div>"
      ],
      "text/plain": [
       "<IPython.core.display.HTML object>"
      ]
     },
     "metadata": {},
     "output_type": "display_data"
    },
    {
     "data": {
      "text/html": [
       "<div style='border-radius:15px;padding:15px;background-color:yellow;color:black;'>black text on yellow</div>"
      ],
      "text/plain": [
       "<IPython.core.display.HTML object>"
      ]
     },
     "metadata": {},
     "output_type": "display_data"
    },
    {
     "data": {
      "text/html": [
       "<div style='border-radius:15px;padding:15px;background-color:blue;color:red;'>red text on blue</div>"
      ],
      "text/plain": [
       "<IPython.core.display.HTML object>"
      ]
     },
     "metadata": {},
     "output_type": "display_data"
    }
   ],
   "source": [
    "\n",
    "def color_box(txt, title=None, bg=\"pink\", fg=\"black\"):\n",
    "    if title is not None:\n",
    "        txt = f\"<b>{title}</b><br><hr><br>{txt}\"\n",
    "\n",
    "    display(HTML(f\"<div style='border-radius:15px;padding:15px;background-color:{bg};color:{fg};'>{txt}</div>\"))\n",
    "\n",
    "color_box(\"black text on pink\")\n",
    "color_box(\"black text on yellow\", bg=\"yellow\")\n",
    "color_box(\"red text on blue\", bg=\"blue\", fg=\"red\")"
   ]
  },
  {
   "cell_type": "markdown",
   "metadata": {},
   "source": [
    "### Specify text alignment - Distinguishes two modes\n",
    "\n",
    "Alright! Pretty good. However, multi-turn like a phone msg app will be nicely if I can align text to differnt sides of the screen. With two actors, two sides will do. Research leads to a `text-align` property that takes \"left\", \"right\" or \"justify\". Plan text will work but maybe nicer to use an enum."
   ]
  },
  {
   "cell_type": "code",
   "execution_count": 29,
   "metadata": {},
   "outputs": [
    {
     "data": {
      "text/html": [
       "<div style='border-radius:15px;padding:15px;text-align:justify;background-color:pink;color:black;'>black text on pink. Default Aligned</div>"
      ],
      "text/plain": [
       "<IPython.core.display.HTML object>"
      ]
     },
     "metadata": {},
     "output_type": "display_data"
    },
    {
     "data": {
      "text/html": [
       "<div style='border-radius:15px;padding:15px;text-align:left;background-color:yellow;color:black;'>black text on yellow. Left aligned</div>"
      ],
      "text/plain": [
       "<IPython.core.display.HTML object>"
      ]
     },
     "metadata": {},
     "output_type": "display_data"
    },
    {
     "data": {
      "text/html": [
       "<div style='border-radius:15px;padding:15px;text-align:right;background-color:blue;color:red;'>red text on blue. Right aligned</div>"
      ],
      "text/plain": [
       "<IPython.core.display.HTML object>"
      ]
     },
     "metadata": {},
     "output_type": "display_data"
    }
   ],
   "source": [
    "from enum import StrEnum\n",
    "class TextAlign (StrEnum):\n",
    "    DEFAULT = \"justify\"\n",
    "    RIGHT = \"right\"\n",
    "    LEFT = \"left\"\n",
    "\n",
    "# print(str(TextAlign.DEFAULT))\n",
    "\n",
    "def color_box(txt, title=None, bg=\"pink\", fg=\"black\", align= TextAlign.DEFAULT):\n",
    "        if title is not None:\n",
    "            txt = f\"<b>{title}</b><br><hr><br>{txt}\"\n",
    "\n",
    "        display(HTML(f\"<div style='border-radius:15px;padding:15px;text-align:{str(align)};background-color:{bg};color:{fg};'>{txt}</div>\"))    \n",
    "\n",
    "color_box(\"black text on pink. Default Aligned\")\n",
    "color_box(\"black text on yellow. Left aligned\", bg=\"yellow\", align = TextAlign.LEFT)\n",
    "color_box(\"red text on blue. Right aligned\", bg=\"blue\", fg=\"red\", align = TextAlign.RIGHT)"
   ]
  },
  {
   "cell_type": "markdown",
   "metadata": {},
   "source": [
    "That worked great. One more thing though, with long text blocks, this won't really help (after seeing how it is handled in two turns convos in the `Py_mod_openai_utils_devel.ipynb`). See if we can use sizing of the color-box to help. \n",
    "\n",
    "\n",
    "### Shorten box to emphasize alignment with long text that would fill the box.\n",
    "\n",
    "Idea would be provide space outside the box\n",
    " - Space to the left for right-aligned text\n",
    " - Space to the right for left-aligned text\n",
    " - No space for default."
   ]
  },
  {
   "cell_type": "code",
   "execution_count": 31,
   "metadata": {},
   "outputs": [
    {
     "data": {
      "text/html": [
       "<div style='border-radius:15px;padding:15px;text-align:justify;background-color:pink;color:black;'>black text on pink. Default Aligned</div>"
      ],
      "text/plain": [
       "<IPython.core.display.HTML object>"
      ]
     },
     "metadata": {},
     "output_type": "display_data"
    },
    {
     "data": {
      "text/html": [
       "<div style='border-radius:15px;padding:15px;margin-right:100px;text-align:left;background-color:yellow;color:black;'>black text on yellow. Left aligned</div>"
      ],
      "text/plain": [
       "<IPython.core.display.HTML object>"
      ]
     },
     "metadata": {},
     "output_type": "display_data"
    },
    {
     "data": {
      "text/html": [
       "<div style='border-radius:15px;padding:15px;margin-left:100px;text-align:right;background-color:blue;color:red;'>red text on blue. Right aligned</div>"
      ],
      "text/plain": [
       "<IPython.core.display.HTML object>"
      ]
     },
     "metadata": {},
     "output_type": "display_data"
    }
   ],
   "source": [
    "# Margin is for space outrside the box\n",
    "# Padding is for space inside the box.\n",
    "def color_box(txt, title=None, bg=\"pink\", fg=\"black\", align= TextAlign.DEFAULT):\n",
    "        if title is not None:\n",
    "            txt = f\"<b>{title}</b><br><hr><br>{txt}\"\n",
    "\n",
    "        MARGIN_AMOUNT=\"100px\"\n",
    "        match align:\n",
    "            case TextAlign.LEFT:        \n",
    "                margin = f\"margin-right:{MARGIN_AMOUNT};\"\n",
    "            case TextAlign.RIGHT:\n",
    "                margin = f\"margin-left:{MARGIN_AMOUNT};\"\n",
    "            case _:\n",
    "                margin = \"\"\n",
    "\n",
    "        display(HTML(f\"<div style='border-radius:15px;padding:15px;{margin}text-align:{str(align)};background-color:{bg};color:{fg};'>{txt}</div>\"))    \n",
    "\n",
    "color_box(\"black text on pink. Default Aligned\")\n",
    "color_box(\"black text on yellow. Left aligned\", bg=\"yellow\", align = TextAlign.LEFT)\n",
    "color_box(\"red text on blue. Right aligned\", bg=\"blue\", fg=\"red\", align = TextAlign.RIGHT)"
   ]
  },
  {
   "cell_type": "code",
   "execution_count": null,
   "metadata": {},
   "outputs": [],
   "source": []
  }
 ],
 "metadata": {
  "kernelspec": {
   "display_name": "ml-pip",
   "language": "python",
   "name": "python3"
  },
  "language_info": {
   "codemirror_mode": {
    "name": "ipython",
    "version": 3
   },
   "file_extension": ".py",
   "mimetype": "text/x-python",
   "name": "python",
   "nbconvert_exporter": "python",
   "pygments_lexer": "ipython3",
   "version": "3.12.9"
  }
 },
 "nbformat": 4,
 "nbformat_minor": 2
}
