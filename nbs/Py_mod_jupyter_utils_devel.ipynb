{
 "cells": [
  {
   "cell_type": "markdown",
   "metadata": {},
   "source": [
    "# jupyter_utils Module\n",
    "\n",
    "Collection of utlity methods to be used in Jupyter notebook contexts\n",
    "\n",
    "- HTML display\n",
    "- Markdown display\n",
    "- Utils for use in colab\n",
    "- \n"
   ]
  },
  {
   "cell_type": "markdown",
   "metadata": {},
   "source": [
    "\n",
    "## HTML Display\n",
    "\n",
    "Collection of utilities to display HTML\n",
    "\n",
    "TODO as needed\n",
    " - SVG\n",
    " - IFrames "
   ]
  },
  {
   "cell_type": "code",
   "execution_count": 2,
   "metadata": {},
   "outputs": [],
   "source": [
    "from IPython.display import display, HTML, Markdown"
   ]
  },
  {
   "cell_type": "code",
   "execution_count": 3,
   "metadata": {},
   "outputs": [],
   "source": [
    "class DisplayHTML:\n",
    "    \"\"\"\n",
    "    Collection of jupyter visualization methods\n",
    "    \"\"\"\n",
    "    @staticmethod\n",
    "    # Enhance with more Html (fg-color, font, etc) as needed but title is usually a good starting point.\n",
    "    def color_box(txt, title=None):\n",
    "        if title is not None:\n",
    "            txt = f\"<b>{title}</b><br><hr><br>{txt}\"\n",
    "\n",
    "        display(HTML(f\"<div style='border-radius:15px;padding:15px;background-color:pink;color:black;'>{txt}</div>\"))"
   ]
  },
  {
   "cell_type": "code",
   "execution_count": 4,
   "metadata": {},
   "outputs": [
    {
     "data": {
      "text/html": [
       "<div style='border-radius:15px;padding:15px;background-color:pink;color:black;'>This has no title</div>"
      ],
      "text/plain": [
       "<IPython.core.display.HTML object>"
      ]
     },
     "metadata": {},
     "output_type": "display_data"
    },
    {
     "data": {
      "text/html": [
       "<div style='border-radius:15px;padding:15px;background-color:pink;color:black;'><b>My Title</b><br><hr><br>This is with a title</div>"
      ],
      "text/plain": [
       "<IPython.core.display.HTML object>"
      ]
     },
     "metadata": {},
     "output_type": "display_data"
    }
   ],
   "source": [
    "DisplayHTML.color_box(\"This has no title\")\n",
    "DisplayHTML.color_box(\"This is with a title\", title=\"My Title\")"
   ]
  },
  {
   "cell_type": "markdown",
   "metadata": {},
   "source": [
    "\n",
    "## Markdown display\n",
    "\n",
    "### API"
   ]
  },
  {
   "cell_type": "code",
   "execution_count": 9,
   "metadata": {},
   "outputs": [],
   "source": [
    "from IPython.display import display, Markdown\n",
    "import json\n",
    "\n",
    "class Md:\n",
    "     @staticmethod\n",
    "     def h(title:str, title_level:int|None=None):\n",
    "          \"\"\"\n",
    "          Heading. \n",
    "          `title_level` defaults to 1\n",
    "          \"\"\"\n",
    "          title_level = title_level if title_level else 1\n",
    "          title_hashtrain = eval(f\"\\\"#\\\"*{title_level}\") if title_level > 1 else \"#\"\n",
    "          Md.md(f\"{title_hashtrain} {title}\")\n",
    "\n",
    "     @staticmethod\n",
    "     def json(jsn, indent=4):\n",
    "          \"\"\"\n",
    "          Display JSON.\n",
    "          If String      → displayed as is\n",
    "          If Json object → Displayed with the optional indent\n",
    "                           Optional indent defaults to 4\n",
    "          \"\"\"          \n",
    "          Md.md(\n",
    "               Md.json_fmt(jsn, indent)\n",
    "          )\n",
    "     \n",
    "     @staticmethod\n",
    "     def hr():\n",
    "          \"\"\"\n",
    "          like the <hr> of HTML\n",
    "          Draws a separator using the \"----\" Md\n",
    "          \"\"\"\n",
    "          Md.md(\"----\")\n",
    "\n",
    "     @staticmethod            \n",
    "     def code(code_block_str:str, code_lang:str|None=None):\n",
    "          \"\"\"\n",
    "          Display Markdown code\n",
    "          code_lang defaults to empty which will simply produce a ```...``` block\n",
    "          \"\"\"          \n",
    "          Md.md(\n",
    "               Md.code_fmt(code_block_str, code_lang)\n",
    "          )\n",
    "\n",
    "     @staticmethod\n",
    "     def md(markdown_text:str):\n",
    "          \"\"\"\n",
    "          Display markdown formatted text\n",
    "          \"\"\"\n",
    "          display(Markdown(markdown_text))\n",
    "\n",
    "     @staticmethod\n",
    "     def code_fmt(code_block:str, code_lang:str|None=\"\"):\n",
    "          return f\"```{code_lang}\\n{code_block}\\n```\"\n",
    "     \n",
    "     @staticmethod\n",
    "     def json_fmt(jsn, indent=4):\n",
    "          if not isinstance(jsn, str):               \n",
    "               jsn = json.dumps(jsn, indent=indent)               \n",
    "\n",
    "          return Md.code_fmt(jsn, \"json\")\n",
    "     "
   ]
  },
  {
   "cell_type": "code",
   "execution_count": 11,
   "metadata": {},
   "outputs": [
    {
     "data": {
      "text/markdown": [
       "# This is a title. Defaults to H1"
      ],
      "text/plain": [
       "<IPython.core.display.Markdown object>"
      ]
     },
     "metadata": {},
     "output_type": "display_data"
    },
    {
     "data": {
      "text/markdown": [
       "----"
      ],
      "text/plain": [
       "<IPython.core.display.Markdown object>"
      ]
     },
     "metadata": {},
     "output_type": "display_data"
    },
    {
     "data": {
      "text/markdown": [
       "### This is a title at level 3"
      ],
      "text/plain": [
       "<IPython.core.display.Markdown object>"
      ]
     },
     "metadata": {},
     "output_type": "display_data"
    },
    {
     "data": {
      "text/markdown": [
       "----"
      ],
      "text/plain": [
       "<IPython.core.display.Markdown object>"
      ]
     },
     "metadata": {},
     "output_type": "display_data"
    },
    {
     "data": {
      "text/markdown": [
       "# This displays a json block at default indent of 4"
      ],
      "text/plain": [
       "<IPython.core.display.Markdown object>"
      ]
     },
     "metadata": {},
     "output_type": "display_data"
    },
    {
     "data": {
      "text/markdown": [
       "```json\n",
       "{\n",
       "    \"type\": \"function\",\n",
       "    \"function\": {\n",
       "        \"name\": \"get_weather\",\n",
       "        \"description\": \"Get current temperature for a given location.\",\n",
       "        \"parameters\": {\n",
       "            \"type\": \"object\",\n",
       "            \"properties\": {\n",
       "                \"location\": {\n",
       "                    \"type\": \"string\",\n",
       "                    \"description\": \"City and country e.g. Bogot\\u00e1, Colombia\"\n",
       "                }\n",
       "            },\n",
       "            \"required\": [\n",
       "                \"location\"\n",
       "            ],\n",
       "            \"additionalProperties\": false\n",
       "        },\n",
       "        \"strict\": true\n",
       "    }\n",
       "}\n",
       "```"
      ],
      "text/plain": [
       "<IPython.core.display.Markdown object>"
      ]
     },
     "metadata": {},
     "output_type": "display_data"
    }
   ],
   "source": [
    "Md.h(\"This is a title. Defaults to H1\")\n",
    "\n",
    "Md.hr()\n",
    "Md.h(\"This is a title at level 3\", title_level=3)\n",
    "\n",
    "Md.hr()\n",
    "\n",
    "Md.h(\"This displays a json block at default indent of 4\")\n",
    "Md.json(\n",
    "    {\n",
    "    \"type\": \"function\",\n",
    "    \"function\": {\n",
    "        \"name\": \"get_weather\",\n",
    "        \"description\": \"Get current temperature for a given location.\",\n",
    "        \"parameters\": {\n",
    "            \"type\": \"object\",\n",
    "            \"properties\": {\n",
    "                \"location\": {\n",
    "                    \"type\": \"string\",\n",
    "                    \"description\": \"City and country e.g. Bogotá, Colombia\"\n",
    "                }\n",
    "            },\n",
    "            \"required\": [\n",
    "                \"location\"\n",
    "            ],\n",
    "            \"additionalProperties\": False\n",
    "        },\n",
    "        \"strict\": True\n",
    "    }\n",
    "})"
   ]
  },
  {
   "cell_type": "markdown",
   "metadata": {},
   "source": [
    "\n",
    "### Improve callability - Eliminate `Md.`\n",
    "\n",
    "I have the following code to display test output\n",
    "\n",
    "```python\n",
    "Md.h(\"get_weather tool schema output\", title_level=3)\n",
    "Md.json(tool_schema)\n",
    "Md.hr()\n",
    "Md.h(\"get_weather in-prompt schema output\", title_level=3)\n",
    "Md.code(Tool.build_inprompt_tool_schema(tool_schema))\n",
    "\n",
    "Md.h(\"Deserialized from string\", title_level=3)\n",
    "Md.code(arg_deserializer(SERIALIZED_DATA_SAMPLE))\n",
    "\n",
    "Md.h(\"Function called with deserialized\", title_level=3)\n",
    "Md.md(\"👉\" + str(fn_caller(arg_deserializer(SERIALIZED_DATA_SAMPLE))))\n",
    "```\n",
    "\n",
    "Unlike some language, I cannot simply do a `from Md import *` and use `h(..), hr()..` etc to reduce clutter. \n",
    " - Either put these methods into global scope of a module and import from there _(the only reason they are under a class is so that can all go into the one jupyter_utils.py module)_\n",
    " - Convert to a builder. This might anyway have to be done. Visually, jupyter might render things differently in the two case of _building entire Markdown and then displaying it_ vs _displaying each piece in a separate call_.\n",
    "\n",
    " Does this look better:\n",
    " \n",
    "```python\n",
    "h(\"get_weather tool schema output\", title_level=3)\n",
    "json(tool_schema)\n",
    "hr()\n",
    "h(\"get_weather in-prompt schema output\", title_level=3)\n",
    "code(Tool.build_inprompt_tool_schema(tool_schema))\n",
    "h(\"Deserialized from string\", title_level=3)\n",
    "code(arg_deserializer(SERIALIZED_DATA_SAMPLE))\n",
    "h(\"Function called with deserialized\", title_level=3)\n",
    "md(\"👉\" + str(fn_caller(arg_deserializer(SERIALIZED_DATA_SAMPLE))))\n",
    "```\n",
    "\n",
    "Nah..\n",
    "\n",
    "What if I use plain strings and use an Md formatter instead ?? (using `---` instead of triple quotes as nesting them was confusing Md)\n",
    "\n",
    "```python\n",
    "Md.md(f\"\"\"\n",
    "### get_weather tool schema output\n",
    "{Md.json_fmt(tool_schema)}\n",
    "----\n",
    "### get_weather in-prompt schema output\n",
    "{Md.code_fmt(Tool.build_inprompt_tool_schema(tool_schema))}\n",
    "\n",
    "### Deserialized from string\n",
    "{Md.code_fmt(arg_deserializer(SERIALIZED_DATA_SAMPLE))}\n",
    "\n",
    "# Function called with deserialized\n",
    "\n",
    "👉 {str(fn_caller(arg_deserializer(SERIALIZED_DATA_SAMPLE))))}\n",
    "\"\"\")\n",
    "```\n",
    "\n",
    "Honestly, looks better to me. More flexible and way more quickly customizable."
   ]
  },
  {
   "cell_type": "markdown",
   "metadata": {},
   "source": []
  }
 ],
 "metadata": {
  "kernelspec": {
   "display_name": "jupyter",
   "language": "python",
   "name": "python3"
  },
  "language_info": {
   "codemirror_mode": {
    "name": "ipython",
    "version": 3
   },
   "file_extension": ".py",
   "mimetype": "text/x-python",
   "name": "python",
   "nbconvert_exporter": "python",
   "pygments_lexer": "ipython3",
   "version": "3.13.2"
  }
 },
 "nbformat": 4,
 "nbformat_minor": 2
}
